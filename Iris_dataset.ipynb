{
  "nbformat": 4,
  "nbformat_minor": 0,
  "metadata": {
    "colab": {
      "provenance": [],
      "authorship_tag": "ABX9TyMW3PO8mDVuQLm1a73QQWt/",
      "include_colab_link": true
    },
    "kernelspec": {
      "name": "python3",
      "display_name": "Python 3"
    },
    "language_info": {
      "name": "python"
    }
  },
  "cells": [
    {
      "cell_type": "markdown",
      "metadata": {
        "id": "view-in-github",
        "colab_type": "text"
      },
      "source": [
        "<a href=\"https://colab.research.google.com/github/Burhan1310/Deep-Learning/blob/main/Iris_dataset.ipynb\" target=\"_parent\"><img src=\"https://colab.research.google.com/assets/colab-badge.svg\" alt=\"Open In Colab\"/></a>"
      ]
    },
    {
      "cell_type": "code",
      "execution_count": 1,
      "metadata": {
        "id": "rdr9zXFofKw6"
      },
      "outputs": [],
      "source": [
        "import torch\n",
        "import torch.nn as nn\n",
        "import torch.nn.functional as F"
      ]
    },
    {
      "cell_type": "markdown",
      "source": [
        "**Create a Model Class that Inherits nn.Module**"
      ],
      "metadata": {
        "id": "SFV6tdNJfm2s"
      }
    },
    {
      "cell_type": "code",
      "source": [
        "class Model(nn.Module):\n",
        "  def __init__(self, input_features=4, hidden1 = 8, hidden2 = 8, out_features = 3):\n",
        "    super().__init__()\n",
        "    self.fully_connected1 = nn.Linear(input_features, hidden1)\n",
        "    self.fully_connected2 = nn.Linear(hidden1, hidden2)\n",
        "    self.out = nn.Linear(hidden2, out_features)\n",
        "\n",
        "  def forward(self, x):\n",
        "    x = F.relu(self.fully_connected1(x))\n",
        "    x = F.relu(self.fully_connected2(x))\n",
        "    x = self.out(x)\n",
        "\n",
        "    return x"
      ],
      "metadata": {
        "id": "HGdDQgRdfkZr"
      },
      "execution_count": 4,
      "outputs": []
    },
    {
      "cell_type": "markdown",
      "source": [
        "**Pick a manual seed for randomization**"
      ],
      "metadata": {
        "id": "7txfMZCqhtoJ"
      }
    },
    {
      "cell_type": "code",
      "source": [
        "torch.manual_seed(41)\n",
        "model = Model()"
      ],
      "metadata": {
        "id": "OgRPNTyjhfZ-"
      },
      "execution_count": 5,
      "outputs": []
    },
    {
      "cell_type": "code",
      "source": [],
      "metadata": {
        "id": "h_ZNIH7Mh91d"
      },
      "execution_count": null,
      "outputs": []
    }
  ]
}